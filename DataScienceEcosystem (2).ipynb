{
 "cells": [
  {
   "cell_type": "code",
   "execution_count": 1,
   "id": "807c4ee6-65c5-4a51-805b-74d5fc82fbac",
   "metadata": {},
   "outputs": [],
   "source": [
    "# Exercise 1: Create a Jupyter Notebook"
   ]
  },
  {
   "cell_type": "code",
   "execution_count": 2,
   "id": "f9ae20ae-9fb4-4bf0-9a35-ce0cf7b9748b",
   "metadata": {},
   "outputs": [],
   "source": [
    "# Exercise 2: Create markdown cell with title of the notebook"
   ]
  },
  {
   "cell_type": "markdown",
   "id": "030c1242-91a7-488e-ab03-4196596e12fa",
   "metadata": {
    "tags": []
   },
   "source": [
    "# Data Science Tools and Ecosystem"
   ]
  },
  {
   "cell_type": "code",
   "execution_count": 3,
   "id": "686b16d3-cc05-468c-a2c4-764336c133ff",
   "metadata": {},
   "outputs": [],
   "source": [
    "# Exercise 3 - Create a markdown cell for an introduction"
   ]
  },
  {
   "cell_type": "markdown",
   "id": "962e551c-6200-4803-a51a-52f8ff8ec12f",
   "metadata": {},
   "source": [
    "In this notebook, Data Science Tools and Ecosystem are summarized."
   ]
  },
  {
   "cell_type": "code",
   "execution_count": 4,
   "id": "98c816a9-bebe-4cc9-98d0-d83fbad553fe",
   "metadata": {
    "tags": []
   },
   "outputs": [],
   "source": [
    "# Exercise 4 - Create a markdown cell to list data science languages"
   ]
  },
  {
   "cell_type": "raw",
   "id": "2fc4a3ee-05e1-4b90-987b-4b3acc94ed95",
   "metadata": {},
   "source": [
    "Some of the popular languages that Data Scientists use are:\n",
    "    1. Python\n",
    "    2. Java\n",
    "    3. R\n",
    "    4. SQL\n",
    "    5. Julia"
   ]
  },
  {
   "cell_type": "code",
   "execution_count": 5,
   "id": "839f5ecc-0313-4c6f-ac55-e690e0b3f182",
   "metadata": {},
   "outputs": [],
   "source": [
    "# Exercise 5 - Create a markdown cell to list data science libraries"
   ]
  },
  {
   "cell_type": "raw",
   "id": "24012af0-517e-46ce-b278-b45dfb7ff2fd",
   "metadata": {},
   "source": [
    "Some of the commonly used libraries used by Data Scientists include:\n",
    "    NumPy\n",
    "    Pandas\n",
    "    Matplotlib\n",
    "    Seaborn\n",
    "    Plotly"
   ]
  },
  {
   "cell_type": "code",
   "execution_count": 6,
   "id": "7b52d071-6478-4ca0-b25f-d0e80f47d690",
   "metadata": {},
   "outputs": [],
   "source": [
    "# Exercise 6 - Create a markdown cell with a table of Data Science tools"
   ]
  },
  {
   "cell_type": "code",
   "execution_count": null,
   "id": "5ace5f50-7870-437e-9df3-cdc45bab4dc0",
   "metadata": {},
   "outputs": [],
   "source": []
  },
  {
   "cell_type": "code",
   "execution_count": 7,
   "id": "3ce25a4e-ca08-4ee8-9fea-812f8c1beb32",
   "metadata": {},
   "outputs": [],
   "source": [
    "# Exercise 7 - Create a markdown cell introducing arithmetic expression examples"
   ]
  },
  {
   "cell_type": "markdown",
   "id": "7e4a4386-5b11-488d-bfc5-81da8dbaba60",
   "metadata": {},
   "source": [
    "### Below are a few examples of evaluating arithmetic expressions in Python"
   ]
  },
  {
   "cell_type": "code",
   "execution_count": 10,
   "id": "bf967ca6-5838-42ab-b987-cd6b6960f4af",
   "metadata": {},
   "outputs": [
    {
     "name": "stdout",
     "output_type": "stream",
     "text": [
      "8\n"
     ]
    }
   ],
   "source": [
    "# plus\n",
    "print(3+5)"
   ]
  },
  {
   "cell_type": "code",
   "execution_count": 11,
   "id": "484e1491-d824-478b-b7c5-4fa0f3db728b",
   "metadata": {
    "tags": []
   },
   "outputs": [
    {
     "name": "stdout",
     "output_type": "stream",
     "text": [
      "5.0\n"
     ]
    }
   ],
   "source": [
    "# div\n",
    "print(15/3)"
   ]
  },
  {
   "cell_type": "code",
   "execution_count": null,
   "id": "84ad0d30-7e41-46a2-a94e-0926115ba661",
   "metadata": {},
   "outputs": [],
   "source": [
    "# Exercise 8 - Create a code cell to multiply and add numbers"
   ]
  },
  {
   "cell_type": "code",
   "execution_count": null,
   "id": "14ba71fe-e0b5-4be8-9419-3048ca39107e",
   "metadata": {},
   "outputs": [],
   "source": []
  },
  {
   "cell_type": "code",
   "execution_count": null,
   "id": "547bb7e2-9902-4423-b5c4-9f0f65bd82ca",
   "metadata": {},
   "outputs": [],
   "source": []
  }
 ],
 "metadata": {
  "kernelspec": {
   "display_name": "Python",
   "language": "python",
   "name": "conda-env-python-py"
  },
  "language_info": {
   "codemirror_mode": {
    "name": "ipython",
    "version": 3
   },
   "file_extension": ".py",
   "mimetype": "text/x-python",
   "name": "python",
   "nbconvert_exporter": "python",
   "pygments_lexer": "ipython3",
   "version": "3.7.12"
  }
 },
 "nbformat": 4,
 "nbformat_minor": 5
}
